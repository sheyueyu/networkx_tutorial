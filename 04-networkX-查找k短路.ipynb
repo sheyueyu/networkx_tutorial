{
 "cells": [
  {
   "cell_type": "code",
   "execution_count": 9,
   "metadata": {},
   "outputs": [],
   "source": [
    "import networkx as nx\n",
    "import matplotlib.pyplot as plt"
   ]
  },
  {
   "cell_type": "markdown",
   "metadata": {},
   "source": [
    "# 1.构建图"
   ]
  },
  {
   "cell_type": "code",
   "execution_count": 10,
   "metadata": {},
   "outputs": [
    {
     "data": {
      "image/png": "[encoded data removed]",
      "text/plain": [
       "<Figure size 432x288 with 1 Axes>"
      ]
     },
     "metadata": {},
     "output_type": "display_data"
    }
   ],
   "source": [
    "# 创建有向图\n",
    "G = nx.DiGraph()\n",
    "\n",
    "# 添加带权重的边\n",
    "edges = [\n",
    "    (0, 1, 1), (0, 2, 2), (1, 2, 1), (1, 3, 2), (2, 3, 1),\n",
    "    (3, 4, 3), (2, 4, 4), (4, 5, 2), (3, 5, 5), \n",
    "]\n",
    "G.add_weighted_edges_from(edges)\n",
    "\n",
    "\n",
    "# 绘制图\n",
    "pos = nx.spring_layout(G)  # 使用Spring布局\n",
    "nx.draw(G, pos, with_labels=True, node_size=2000, node_color=\"lightblue\", font_size=10)\n",
    "nx.draw_networkx_edge_labels(G, pos, edge_labels={(u, v): G[u][v]['weight'] for u, v in G.edges()}, font_color='red')\n",
    "\n",
    "# 显示图\n",
    "plt.show()\n"
   ]
  },
  {
   "cell_type": "markdown",
   "metadata": {},
   "source": [
    "# 2.使用networkX查找最短路径"
   ]
  },
  {
   "cell_type": "code",
   "execution_count": 11,
   "metadata": {},
   "outputs": [],
   "source": [
    "from itertools import islice\n",
    "def k_shortest_paths(G, source, target, k, weight=None):\n",
    "    return list(islice(nx.shortest_simple_paths(G, source, target, weight=weight), k))"
   ]
  },
  {
   "cell_type": "code",
   "execution_count": 12,
   "metadata": {},
   "outputs": [
    {
     "name": "stdout",
     "output_type": "stream",
     "text": [
      "Path 1: [0, 1, 3, 5], weight: 8\n",
      "Path 2: [0, 2, 3, 5], weight: 8\n",
      "Path 3: [0, 1, 2, 3, 5], weight: 8\n"
     ]
    }
   ],
   "source": [
    "# 获取 k-最短路径\n",
    "paths = k_shortest_paths(G, 0, 5, 3, 'weight')\n",
    "\n",
    "# 输出路径和权重\n",
    "for i, path in enumerate(paths):\n",
    "    weight = sum(G[path[n]][path[n + 1]]['weight'] for n in range(len(path) - 1))\n",
    "    print(f\"Path {i + 1}: {path}, weight: {weight}\")\n"
   ]
  },
  {
   "cell_type": "markdown",
   "metadata": {},
   "source": [
    "# 3.自己构建方法"
   ]
  },
  {
   "cell_type": "code",
   "execution_count": 19,
   "metadata": {},
   "outputs": [],
   "source": [
    "from itertools import count\n",
    "from heapq import heappush, heappop\n",
    "import networkx as nx\n",
    "import pandas as pd \n",
    "import matplotlib.pyplot as plt\n",
    "\n",
    "class K_shortest_path(object):\n",
    "    def __init__(self,G,  k=3, weight='weight') -> None:\n",
    "        self.G = G \n",
    "        self.k = k\n",
    "        self.weight = weight\n",
    "        self.G_original = G\n",
    "        \n",
    "    def get_path_length(self,G,path:list, weight='weight'):\n",
    "        \"\"\"计算每条路径的总阻抗，基于weight\n",
    "        Args:\n",
    "            G (nx.graph): 构建的图\n",
    "            path (list): 路径\n",
    "            weight (str, optional): 边的权重计算基于什么，可以是时间也可以是距离. Defaults to 'weight'.\n",
    "        \"\"\"\n",
    "        length = 0\n",
    "        if len(path) > 1:\n",
    "            for i in range(len(path) - 1):\n",
    "                u = path[i]\n",
    "                v = path[i + 1]\n",
    "                length += G.edges[u,v].get(weight, 1)\n",
    "        return length     \n",
    "    \n",
    "    def find_sp(self,s,t,G):\n",
    "        \"\"\"找到第一条P(1)\n",
    "\n",
    "        Args:\n",
    "            s (node): 路径起点\n",
    "            t (node): 路径终点\n",
    "        \n",
    "        lenght:P(1)对应的长度\n",
    "        path:P(1)对应的路径 list\n",
    "        \"\"\"\n",
    "        path_1 = nx.shortest_path(G=G,source=s,target=t,weight=self.weight)\n",
    "        length_1 = nx.shortest_path_length(G=G,source=s,target=t,weight=self.weight)\n",
    "        # length_1, path_1 = nx.single_source_dijkstra(G,source=s,weight=weight)\n",
    "\n",
    "        return length_1, path_1\n",
    "    \n",
    "    \n",
    "    def find_Pi_sp(self,source,target):\n",
    "        if source == target:\n",
    "            return ([0], [[source]]) \n",
    "        G =  self.G\n",
    "        k = self.k\n",
    "        length, path = self.find_sp(G=G,s=source,t=target)\n",
    "        lengths = []\n",
    "        paths = []\n",
    "        lengths.append(length)\n",
    "        paths.append(path)\n",
    "        c = count()        \n",
    "        B = [] \n",
    "        G_original = self.G.copy()   \n",
    "         \n",
    "        for i in range(1, k):\n",
    "            for j in range(len(paths[-1]) - 1):            \n",
    "                spur_node = paths[-1][j]\n",
    "                root_path = paths[-1][:j + 1]\n",
    "                \n",
    "                edges_removed = []\n",
    "                for c_path in paths:\n",
    "                    if len(c_path) > j and root_path == c_path[:j + 1]:\n",
    "                        u = c_path[j] #节点\n",
    "                        v = c_path[j + 1] #节点\n",
    "                        if G.has_edge(u, v):  #查看u，v节点之间是否有路径\n",
    "                            edge_attr = G.edges[u,v]['weight']\n",
    "                            G.remove_edge(u, v) #移除边\n",
    "                            edges_removed.append((u, v, edge_attr))\n",
    "                            \n",
    "                for n in range(len(root_path) - 1):\n",
    "                    node = root_path[n]\n",
    "                    # out-edges\n",
    "                    dict_d = []\n",
    "                    for (u,v,edge_attr) in G.edges(nbunch =node,data = True ):\n",
    "                    # for u, v, edge_attr in G.edges_iter(node, data=True):\n",
    "                        edge_attr = edge_attr['weight']\n",
    "                        dict_d.append((u,v))\n",
    "                        edges_removed.append((u, v, edge_attr))\n",
    "                    G.remove_edges_from(dict_d) \n",
    "                        \n",
    "                        \n",
    "                    if G.is_directed():\n",
    "                        # in-edges\n",
    "                        in_edges_d_list = []\n",
    "                        for (u,v,edge_attr) in G.edges(nbunch =node,data = True ):\n",
    "                        # for u, v, edge_attr in G.in_edges_iter(node, data=True):\n",
    "                            # edge_attr = edge_attr['weight']\n",
    "                            edge_attr = G.edges[u,v]['weight']\n",
    "                            # G.remove_edge(u, v)\n",
    "                            in_edges_d_list.append((u,v))\n",
    "                            edges_removed.append((u, v, edge_attr))\n",
    "                        G.remove_edges_from(in_edges_d_list) \n",
    "                        \n",
    "                spur_path_length, spur_path = nx.single_source_dijkstra(G, spur_node, weight=self.weight)            \n",
    "                \n",
    "                if target in spur_path and spur_path[target]:\n",
    "                    total_path = root_path[:-1] + spur_path[target]\n",
    "                    \n",
    "                    total_path_length = self.get_path_length(G_original, root_path, self.weight) + spur_path_length[target]                \n",
    "                    \n",
    "                    heappush(B, (total_path_length, next(c), total_path))\n",
    "                    \n",
    "                for e in edges_removed:\n",
    "                    u, v, edge_attr = e\n",
    "                    G.add_edge(u, v, weight = edge_attr)\n",
    "                            \n",
    "            if B:\n",
    "                (l, _, p) = heappop(B)        \n",
    "                lengths.append(l)\n",
    "                paths.append(p)\n",
    "            else:\n",
    "                break\n",
    "        return (lengths,paths)\n",
    "    \n",
    "          "
   ]
  },
  {
   "cell_type": "code",
   "execution_count": 22,
   "metadata": {},
   "outputs": [
    {
     "data": {
      "image/png": "[encoded data removed]",
      "text/plain": [
       "<Figure size 432x288 with 1 Axes>"
      ]
     },
     "metadata": {},
     "output_type": "display_data"
    },
    {
     "name": "stdout",
     "output_type": "stream",
     "text": [
      "  weight             path\n",
      "0      8     [0, 1, 3, 5]\n",
      "1      8     [0, 2, 3, 5]\n",
      "2      8  [0, 1, 2, 3, 5]\n"
     ]
    }
   ],
   "source": [
    "  \n",
    "if __name__ =='__main__':\n",
    "    # 创建有向图\n",
    "    G = nx.DiGraph()\n",
    "\n",
    "    # 添加带权重的边\n",
    "    edges = [\n",
    "        (0, 1, 1), (0, 2, 2), (1, 2, 1), (1, 3, 2), (2, 3, 1),\n",
    "        (3, 4, 3), (2, 4, 4), (4, 5, 2), (3, 5, 5), \n",
    "    ]\n",
    "    G.add_weighted_edges_from(edges)\n",
    "    for u, v, weight in edges:\n",
    "        G.add_edge(u, v, weight=weight)\n",
    "    \n",
    "    KSP = K_shortest_path(G=G,k=3,weight='weight')\n",
    "    KSP.G\n",
    "    \n",
    "    # 绘制图\n",
    "    pos = nx.spring_layout(KSP.G)  # 使用Spring布局\n",
    "    nx.draw(KSP.G, pos, with_labels=True, node_size=2000, node_color=\"lightblue\", font_size=10)\n",
    "    nx.draw_networkx_edge_labels(KSP.G, pos, edge_labels={(u, v): KSP.G[u][v]['weight'] for u, v in KSP.G.edges()}, font_color='red')\n",
    "    # 显示图\n",
    "    plt.show()\n",
    "    \n",
    "    # 最短路径查询\n",
    "    source = 0\n",
    "    target = 5\n",
    "    (lengths,paths) = KSP.find_Pi_sp(source=source,target=target)\n",
    "    k_df = pd.DataFrame((lengths,paths)).T\n",
    "    k_df.columns = ['weight','path']\n",
    "    print(k_df)"
   ]
  },
  {
   "cell_type": "code",
   "execution_count": null,
   "metadata": {},
   "outputs": [],
   "source": []
  }
 ],
 "metadata": {
  "kernelspec": {
   "display_name": "ox",
   "language": "python",
   "name": "python3"
  },
  "language_info": {
   "codemirror_mode": {
    "name": "ipython",
    "version": 3
   },
   "file_extension": ".py",
   "mimetype": "text/x-python",
   "name": "python",
   "nbconvert_exporter": "python",
   "pygments_lexer": "ipython3",
   "version": "3.10.4"
  },
  "orig_nbformat": 4
 },
 "nbformat": 4,
 "nbformat_minor": 2
}

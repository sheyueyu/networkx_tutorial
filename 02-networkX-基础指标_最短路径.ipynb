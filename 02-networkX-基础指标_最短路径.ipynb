{
 "cells": [
  {
   "cell_type": "code",
   "execution_count": 50,
   "metadata": {},
   "outputs": [],
   "source": [
    "import networkx as nx\n",
    "import matplotlib.pyplot as plt"
   ]
  },
  {
   "cell_type": "code",
   "execution_count": 51,
   "metadata": {},
   "outputs": [
    {
     "data": {
      "text/plain": [
       "[(1, 2, {'weight': 1}),\n",
       " (1, 3, {'weight': 2}),\n",
       " (1, 4, {'weight': 3}),\n",
       " (4, 3, {'weight': 4})]"
      ]
     },
     "execution_count": 51,
     "metadata": {},
     "output_type": "execute_result"
    },
    {
     "data": {
      "image/png": "[encoded data removed]",
      "text/plain": [
       "<Figure size 432x288 with 1 Axes>"
      ]
     },
     "metadata": {},
     "output_type": "display_data"
    }
   ],
   "source": [
    "G_w = nx.DiGraph()\n",
    "edges_list = [\n",
    "    (1,2,1),\n",
    "    (1,3,2),\n",
    "    (1,4,3),\n",
    "    (4,3,4)\n",
    "]\n",
    "G_w.add_weighted_edges_from(edges_list)\n",
    "nx.draw_networkx(G = G_w)\n",
    "list(G_w.edges(data=True))"
   ]
  },
  {
   "cell_type": "code",
   "execution_count": 52,
   "metadata": {},
   "outputs": [
    {
     "name": "stdout",
     "output_type": "stream",
     "text": [
      "edge_labels: {(1, 2): 1, (1, 3): 2, (1, 4): 3, (4, 3): 4}\n"
     ]
    },
    {
     "data": {
      "image/png": "[encoded data removed]",
      "text/plain": [
       "<Figure size 432x288 with 1 Axes>"
      ]
     },
     "metadata": {},
     "output_type": "display_data"
    }
   ],
   "source": [
    "#自定义可视化，在边上展示权重\n",
    "edge_labels = nx.get_edge_attributes(G_w, \"weight\")\n",
    "print('edge_labels:',edge_labels)\n",
    "pos = nx.spring_layout(G_w) \n",
    "nx.draw_networkx_edge_labels(G_w, pos, edge_labels=edge_labels)  # 绘制图中边的权重\n",
    "nx.draw_networkx(G_w, pos)"
   ]
  },
  {
   "cell_type": "markdown",
   "metadata": {},
   "source": [
    "# 1.度"
   ]
  },
  {
   "cell_type": "markdown",
   "metadata": {},
   "source": [
    "## 1.1 度"
   ]
  },
  {
   "cell_type": "code",
   "execution_count": 53,
   "metadata": {},
   "outputs": [
    {
     "data": {
      "text/plain": [
       "DiDegreeView({1: 3, 2: 1, 3: 2, 4: 2})"
      ]
     },
     "execution_count": 53,
     "metadata": {},
     "output_type": "execute_result"
    }
   ],
   "source": [
    "# 度\n",
    "G = G_w.copy()\n",
    "G.degree()"
   ]
  },
  {
   "cell_type": "markdown",
   "metadata": {},
   "source": [
    "## 1.2 入度"
   ]
  },
  {
   "cell_type": "code",
   "execution_count": 54,
   "metadata": {},
   "outputs": [
    {
     "data": {
      "text/plain": [
       "InDegreeView({1: 0, 2: 1, 3: 2, 4: 1})"
      ]
     },
     "execution_count": 54,
     "metadata": {},
     "output_type": "execute_result"
    }
   ],
   "source": [
    "# 入度\n",
    "G.in_degree()"
   ]
  },
  {
   "cell_type": "markdown",
   "metadata": {},
   "source": [
    "## 1.3 出度"
   ]
  },
  {
   "cell_type": "code",
   "execution_count": 55,
   "metadata": {},
   "outputs": [
    {
     "data": {
      "text/plain": [
       "OutDegreeView({1: 3, 2: 0, 3: 0, 4: 1})"
      ]
     },
     "execution_count": 55,
     "metadata": {},
     "output_type": "execute_result"
    }
   ],
   "source": [
    "# 出度\n",
    "G.out_degree()"
   ]
  },
  {
   "cell_type": "markdown",
   "metadata": {},
   "source": [
    "## 1.4 加权度\n",
    "- 加权度<br>\n",
    "![](./assets/2023-09-03-20-47-21.png)"
   ]
  },
  {
   "cell_type": "code",
   "execution_count": 56,
   "metadata": {},
   "outputs": [
    {
     "data": {
      "text/plain": [
       "DiDegreeView({1: 6, 2: 1, 3: 6, 4: 7})"
      ]
     },
     "execution_count": 56,
     "metadata": {},
     "output_type": "execute_result"
    }
   ],
   "source": [
    "# 计算节点的加权度\n",
    "G.degree(weight='weight')"
   ]
  },
  {
   "cell_type": "markdown",
   "metadata": {},
   "source": [
    "## 1.5 邻居节点\n",
    "- 与一个给定节点通过一条边直接相连的所有节点。\n",
    "- 邻居节点\n",
    "- 出度邻居\n",
    "- 入度邻居"
   ]
  },
  {
   "cell_type": "markdown",
   "metadata": {},
   "source": [
    "### 1.5.1 邻居节点计算"
   ]
  },
  {
   "cell_type": "code",
   "execution_count": 64,
   "metadata": {},
   "outputs": [
    {
     "name": "stdout",
     "output_type": "stream",
     "text": [
      "Neighbors of node 1: [2, 3, 4]\n"
     ]
    }
   ],
   "source": [
    "# 查找某个节点的邻居节点 （因为上面是有向图，G.neighbors()计算的是出度节点）\n",
    "neighbors_of_1 = list(G.neighbors(1))\n",
    "print(\"Neighbors of node 1:\", neighbors_of_1)"
   ]
  },
  {
   "cell_type": "code",
   "execution_count": 65,
   "metadata": {},
   "outputs": [
    {
     "name": "stdout",
     "output_type": "stream",
     "text": [
      "Neighbors of node 1: [2, 3, 4]\n",
      "Neighbors of node 2: []\n",
      "Neighbors of node 3: []\n",
      "Neighbors of node 4: [3]\n"
     ]
    }
   ],
   "source": [
    "# 计算并打印所有节点的邻居节点\n",
    "for node in G.nodes():\n",
    "    neighbors = list(G.neighbors(node))\n",
    "    print(f\"Neighbors of node {node}: {neighbors}\")\n"
   ]
  },
  {
   "cell_type": "markdown",
   "metadata": {},
   "source": [
    "### 1.5.2 出度邻居节点"
   ]
  },
  {
   "cell_type": "code",
   "execution_count": 58,
   "metadata": {},
   "outputs": [
    {
     "name": "stdout",
     "output_type": "stream",
     "text": [
      "Out-neighbors of node 1: [2, 3, 4]\n"
     ]
    }
   ],
   "source": [
    "# 找到节点1的出度邻居\n",
    "out_neighbors_of_1 = list(G.successors(1))\n",
    "print(\"Out-neighbors of node 1:\", out_neighbors_of_1)"
   ]
  },
  {
   "cell_type": "code",
   "execution_count": 69,
   "metadata": {},
   "outputs": [
    {
     "name": "stdout",
     "output_type": "stream",
     "text": [
      "Out-neighbors of node 1: [2, 3, 4]\n",
      "Out-neighbors of node 2: []\n",
      "Out-neighbors of node 3: []\n",
      "Out-neighbors of node 4: [3]\n"
     ]
    }
   ],
   "source": [
    "# 计算并打印所有节点的邻居节点\n",
    "for node in G.nodes():\n",
    "    neighbors = list(G.successors(node))\n",
    "    print(f\"Out-neighbors of node {node}: {neighbors}\")\n"
   ]
  },
  {
   "cell_type": "markdown",
   "metadata": {},
   "source": [
    "### 1.5.3 入度邻居节点"
   ]
  },
  {
   "cell_type": "code",
   "execution_count": 68,
   "metadata": {},
   "outputs": [
    {
     "name": "stdout",
     "output_type": "stream",
     "text": [
      "In-neighbors of node 1: []\n",
      "In-neighbors of node 2: [1]\n",
      "In-neighbors of node 3: [1, 4]\n",
      "In-neighbors of node 4: [1]\n"
     ]
    }
   ],
   "source": [
    "# 计算并打印所有节点的邻居节点\n",
    "for node in G.nodes():\n",
    "    neighbors = list(G.predecessors(node))\n",
    "    print(f\"In-neighbors of node {node}: {neighbors}\")"
   ]
  },
  {
   "cell_type": "markdown",
   "metadata": {},
   "source": [
    "# 2.节点数、边数"
   ]
  },
  {
   "cell_type": "code",
   "execution_count": 31,
   "metadata": {},
   "outputs": [
    {
     "data": {
      "text/plain": [
       "4"
      ]
     },
     "execution_count": 31,
     "metadata": {},
     "output_type": "execute_result"
    }
   ],
   "source": [
    "# 节点的数量\n",
    "nx.number_of_nodes(G=G)"
   ]
  },
  {
   "cell_type": "code",
   "execution_count": 32,
   "metadata": {},
   "outputs": [
    {
     "data": {
      "text/plain": [
       "4"
      ]
     },
     "execution_count": 32,
     "metadata": {},
     "output_type": "execute_result"
    }
   ],
   "source": [
    "# or\n",
    "len(G)"
   ]
  },
  {
   "cell_type": "code",
   "execution_count": 33,
   "metadata": {},
   "outputs": [
    {
     "data": {
      "text/plain": [
       "4"
      ]
     },
     "execution_count": 33,
     "metadata": {},
     "output_type": "execute_result"
    }
   ],
   "source": [
    "nx.number_of_edges(G=G)"
   ]
  },
  {
   "cell_type": "markdown",
   "metadata": {},
   "source": [
    "# 3.最短路径\n",
    "- [shortest_path()](https://networkx.org/documentation/stable/reference/algorithms/generated/networkx.algorithms.shortest_paths.generic.shortest_path.html#shortest-path)"
   ]
  },
  {
   "cell_type": "code",
   "execution_count": 34,
   "metadata": {},
   "outputs": [
    {
     "data": {
      "image/png": "[encoded data removed]",
      "text/plain": [
       "<Figure size 432x288 with 1 Axes>"
      ]
     },
     "metadata": {},
     "output_type": "display_data"
    }
   ],
   "source": [
    "# 创建一个带权图\n",
    "G = nx.Graph()\n",
    "G.add_nodes_from([1, 2, 3, 4])\n",
    "\n",
    "## 添加带权边\n",
    "G.add_edge(1, 2, weight=0.5)\n",
    "G.add_edge(2, 3, weight=0.3)\n",
    "G.add_edge(3, 1, weight=0.1)\n",
    "G.add_edge(4, 1, weight=0.1)\n",
    "G.add_edge(4, 1, weight=0.2)\n",
    "\n",
    "# 绘制图形\n",
    "pos = nx.spring_layout(G)\n",
    "nx.draw(G, pos, with_labels=True, node_color='lightblue', node_size=500, font_size=16, font_weight='bold')\n",
    "labels = nx.get_edge_attributes(G, 'weight')\n",
    "nx.draw_networkx_edge_labels(G, pos, edge_labels=labels, font_size=12, font_color='red')\n",
    "plt.show()\n",
    "\n",
    "# nx.to_numpy_matrix(G=G)"
   ]
  },
  {
   "cell_type": "markdown",
   "metadata": {},
   "source": [
    "## 3.1 最短路径(不带权重)\n",
    "- 定义：两个节点之间的最短路径上的边数\n",
    "- source :起始节点\n",
    "- target :终止节点\n",
    "- weight : 边属性"
   ]
  },
  {
   "cell_type": "code",
   "execution_count": 35,
   "metadata": {},
   "outputs": [
    {
     "data": {
      "text/plain": [
       "EdgeDataView([(1, 2, {'weight': 0.5}), (1, 3, {'weight': 0.1}), (1, 4, {'weight': 0.2}), (2, 3, {'weight': 0.3})])"
      ]
     },
     "execution_count": 35,
     "metadata": {},
     "output_type": "execute_result"
    }
   ],
   "source": [
    "G.edges(data=True)"
   ]
  },
  {
   "cell_type": "code",
   "execution_count": 36,
   "metadata": {},
   "outputs": [
    {
     "data": {
      "text/plain": [
       "[4, 1, 2]"
      ]
     },
     "execution_count": 36,
     "metadata": {},
     "output_type": "execute_result"
    }
   ],
   "source": [
    "# 最短路径(不带权重)\n",
    "nx.shortest_path(G=G,source=4,target=2,weight=None)"
   ]
  },
  {
   "cell_type": "code",
   "execution_count": 37,
   "metadata": {},
   "outputs": [
    {
     "data": {
      "text/plain": [
       "2"
      ]
     },
     "execution_count": 37,
     "metadata": {},
     "output_type": "execute_result"
    }
   ],
   "source": [
    "# 最短路径长度\n",
    "nx.shortest_path_length(G=G,source=4,target=2,weight=None)"
   ]
  },
  {
   "cell_type": "markdown",
   "metadata": {},
   "source": [
    "## 3.2 最短路径(带权重)"
   ]
  },
  {
   "cell_type": "code",
   "execution_count": 38,
   "metadata": {},
   "outputs": [
    {
     "data": {
      "text/plain": [
       "[4, 1, 3, 2]"
      ]
     },
     "execution_count": 38,
     "metadata": {},
     "output_type": "execute_result"
    }
   ],
   "source": [
    "# 最短路径(带权重)\n",
    "nx.shortest_path(G=G,source=4,target=2,weight='weight') "
   ]
  },
  {
   "cell_type": "code",
   "execution_count": 39,
   "metadata": {},
   "outputs": [
    {
     "data": {
      "text/plain": [
       "0.6000000000000001"
      ]
     },
     "execution_count": 39,
     "metadata": {},
     "output_type": "execute_result"
    }
   ],
   "source": [
    "nx.shortest_path_length(G=G,source=4,target=2,weight='weight') "
   ]
  },
  {
   "cell_type": "markdown",
   "metadata": {},
   "source": [
    "加权时的最短路径是4-1-2，从加权、非加权的最短路径可以看出，不路径长度为2;加权时为4-1-3-2，路径长度为：0.6"
   ]
  },
  {
   "cell_type": "markdown",
   "metadata": {},
   "source": [
    "# 4.计算图中所有的最短路径"
   ]
  },
  {
   "cell_type": "code",
   "execution_count": 40,
   "metadata": {},
   "outputs": [
    {
     "data": {
      "text/plain": [
       "{1: {1: [1], 2: [1, 2], 3: [1, 3], 4: [1, 4]},\n",
       " 2: {2: [2], 1: [2, 1], 3: [2, 3], 4: [2, 1, 4]},\n",
       " 3: {3: [3], 2: [3, 2], 1: [3, 1], 4: [3, 1, 4]},\n",
       " 4: {4: [4], 1: [4, 1], 2: [4, 1, 2], 3: [4, 1, 3]}}"
      ]
     },
     "execution_count": 40,
     "metadata": {},
     "output_type": "execute_result"
    }
   ],
   "source": [
    "nx.shortest_path(G=G) # 无加权，所有节点之间的最短路径"
   ]
  },
  {
   "cell_type": "code",
   "execution_count": 41,
   "metadata": {},
   "outputs": [
    {
     "data": {
      "text/plain": [
       "{1: {1: [1], 2: [1, 3, 2], 3: [1, 3], 4: [1, 4]},\n",
       " 2: {2: [2], 1: [2, 3, 1], 3: [2, 3], 4: [2, 3, 1, 4]},\n",
       " 3: {3: [3], 2: [3, 2], 1: [3, 1], 4: [3, 1, 4]},\n",
       " 4: {4: [4], 1: [4, 1], 2: [4, 1, 3, 2], 3: [4, 1, 3]}}"
      ]
     },
     "execution_count": 41,
     "metadata": {},
     "output_type": "execute_result"
    }
   ],
   "source": [
    "# 点-点对之间的最短路径\n",
    "dict(nx.all_pairs_dijkstra_path(G=G,weight='weight'))"
   ]
  },
  {
   "cell_type": "code",
   "execution_count": 42,
   "metadata": {},
   "outputs": [
    {
     "data": {
      "text/plain": [
       "{1: {1: 0, 3: 0.1, 4: 0.2, 2: 0.4},\n",
       " 2: {2: 0, 3: 0.3, 1: 0.4, 4: 0.6000000000000001},\n",
       " 3: {3: 0, 1: 0.1, 2: 0.3, 4: 0.30000000000000004},\n",
       " 4: {4: 0, 1: 0.2, 3: 0.30000000000000004, 2: 0.6000000000000001}}"
      ]
     },
     "execution_count": 42,
     "metadata": {},
     "output_type": "execute_result"
    }
   ],
   "source": [
    "# 点-点对之间的最短路径长度\n",
    "dict(nx.all_pairs_dijkstra_path_length(G=G,weight='weight'))"
   ]
  },
  {
   "cell_type": "code",
   "execution_count": 43,
   "metadata": {},
   "outputs": [
    {
     "data": {
      "text/plain": [
       "{1: ({1: 0, 3: 0.1, 4: 0.2, 2: 0.4},\n",
       "  {1: [1], 2: [1, 3, 2], 3: [1, 3], 4: [1, 4]}),\n",
       " 2: ({2: 0, 3: 0.3, 1: 0.4, 4: 0.6000000000000001},\n",
       "  {2: [2], 1: [2, 3, 1], 3: [2, 3], 4: [2, 3, 1, 4]}),\n",
       " 3: ({3: 0, 1: 0.1, 2: 0.3, 4: 0.30000000000000004},\n",
       "  {3: [3], 2: [3, 2], 1: [3, 1], 4: [3, 1, 4]}),\n",
       " 4: ({4: 0, 1: 0.2, 3: 0.30000000000000004, 2: 0.6000000000000001},\n",
       "  {4: [4], 1: [4, 1], 2: [4, 1, 3, 2], 3: [4, 1, 3]})}"
      ]
     },
     "execution_count": 43,
     "metadata": {},
     "output_type": "execute_result"
    }
   ],
   "source": [
    "# 计算点-点对之间的最短路径和最短路径长度\n",
    "dict(nx.all_pairs_dijkstra(G=G,weight='weight'))"
   ]
  },
  {
   "cell_type": "code",
   "execution_count": null,
   "metadata": {},
   "outputs": [],
   "source": []
  }
 ],
 "metadata": {
  "kernelspec": {
   "display_name": "ox",
   "language": "python",
   "name": "python3"
  },
  "language_info": {
   "codemirror_mode": {
    "name": "ipython",
    "version": 3
   },
   "file_extension": ".py",
   "mimetype": "text/x-python",
   "name": "python",
   "nbconvert_exporter": "python",
   "pygments_lexer": "ipython3",
   "version": "3.10.4"
  },
  "orig_nbformat": 4
 },
 "nbformat": 4,
 "nbformat_minor": 2
}
